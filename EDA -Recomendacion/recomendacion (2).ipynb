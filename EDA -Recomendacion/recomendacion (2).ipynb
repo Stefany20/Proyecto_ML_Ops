{
  "nbformat": 4,
  "nbformat_minor": 0,
  "metadata": {
    "colab": {
      "provenance": []
    },
    "kernelspec": {
      "name": "python3",
      "display_name": "Python 3"
    },
    "language_info": {
      "name": "python"
    }
  },
  "cells": [
    {
      "cell_type": "code",
      "execution_count": 4,
      "metadata": {
        "id": "b_J8K9xvkpId"
      },
      "outputs": [],
      "source": [
        "import numpy as np\n",
        "import pandas as pd\n",
        "from sklearn.feature_extraction.text import TfidfVectorizer\n",
        "from sklearn.metrics.pairwise import linear_kernel\n"
      ]
    },
    {
      "cell_type": "code",
      "source": [
        "data = pd.read_csv(\"/definido_movies_dataset copy.csv\")"
      ],
      "metadata": {
        "colab": {
          "base_uri": "https://localhost:8080/"
        },
        "id": "sV8stts-lMhr",
        "outputId": "9158d623-876b-450f-849a-014ecf2de14c"
      },
      "execution_count": 3,
      "outputs": [
        {
          "output_type": "stream",
          "name": "stderr",
          "text": [
            "<ipython-input-3-45fb6667183e>:1: DtypeWarning: Columns (7) have mixed types. Specify dtype option on import or set low_memory=False.\n",
            "  data = pd.read_csv(\"/definido_movies_dataset copy.csv\")\n"
          ]
        }
      ]
    },
    {
      "cell_type": "code",
      "source": [
        "data.dropna(subset=[\"title\"], inplace=True)"
      ],
      "metadata": {
        "id": "pvJpNlMJnFXd"
      },
      "execution_count": 7,
      "outputs": []
    },
    {
      "cell_type": "code",
      "source": [
        "data[\"title\"].fillna('', inplace=True)\n"
      ],
      "metadata": {
        "id": "iZ-b4-yAnK2g"
      },
      "execution_count": 8,
      "outputs": []
    },
    {
      "cell_type": "code",
      "source": [
        "data[\"title\"].fillna(\"Sin Datos\", inplace=True)\n"
      ],
      "metadata": {
        "id": "j-Z0CQcJnRvF"
      },
      "execution_count": 9,
      "outputs": []
    },
    {
      "cell_type": "code",
      "source": [
        "def obtener_recomendaciones(titulo : str):\n",
        "    tfidf = TfidfVectorizer(stop_words='english')\n",
        "    tfidf_matrix = tfidf.fit_transform(data['title'])\n",
        "    cosine_similarities = linear_kernel(tfidf_matrix, tfidf_matrix)\n",
        "    \n",
        "    indice = data[data['title'] == titulo].index[0]\n",
        "    puntuaciones_similares = list(enumerate(cosine_similarities[indice]))\n",
        "    puntuaciones_similares = sorted(puntuaciones_similares, key=lambda x: x[1], reverse=True)\n",
        "    puntuaciones_similares = puntuaciones_similares[1:6]  # Obtiene las 5 películas más similares\n",
        "    \n",
        "    indices_peliculas = [i[0] for i in puntuaciones_similares]\n",
        "    \n",
        "    recomendacion = {'lista recomendada': [data['title'].iloc[i] for i in indices_peliculas]}\n",
        "    return recomendacion"
      ],
      "metadata": {
        "id": "KZHSd3KolbMg"
      },
      "execution_count": 10,
      "outputs": []
    },
    {
      "cell_type": "code",
      "source": [
        "obtener_recomendaciones(\"Toy Story\")"
      ],
      "metadata": {
        "colab": {
          "base_uri": "https://localhost:8080/"
        },
        "id": "8jJP-xyhmmDo",
        "outputId": "a328fefd-5c70-4d0a-a45d-0bbbf26394ac"
      },
      "execution_count": 11,
      "outputs": [
        {
          "output_type": "execute_result",
          "data": {
            "text/plain": [
              "{'lista recomendada': ['Toy Story 2',\n",
              "  'Toy Story 3',\n",
              "  'The Toy',\n",
              "  'The Toy',\n",
              "  'Toy Story of Terror!']}"
            ]
          },
          "metadata": {},
          "execution_count": 11
        }
      ]
    }
  ]
}
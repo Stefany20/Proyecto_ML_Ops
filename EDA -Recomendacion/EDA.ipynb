{
 "cells": [
  {
   "attachments": {},
   "cell_type": "markdown",
   "metadata": {},
   "source": [
    "Análisis exploratorio de los datos: (Exploratory Data Analysis-EDA)"
   ]
  },
  {
   "cell_type": "code",
   "execution_count": 1,
   "metadata": {},
   "outputs": [],
   "source": [
    "#importamos las librerias\n",
    "import pandas as pd \n",
    "import numpy as np\n",
    "import matplotlib.pyplot as plt\n",
    "import seaborn as sns "
   ]
  },
  {
   "cell_type": "code",
   "execution_count": 5,
   "metadata": {},
   "outputs": [
    {
     "name": "stderr",
     "output_type": "stream",
     "text": [
      "C:\\Users\\luisr\\AppData\\Local\\Temp\\ipykernel_10536\\2603322724.py:1: DtypeWarning: Columns (7) have mixed types. Specify dtype option on import or set low_memory=False.\n",
      "  data = pd.read_csv(\"definido_movies_dataset copy.csv\")\n"
     ]
    }
   ],
   "source": [
    "data = pd.read_csv(\"definido_movies_dataset copy.csv\")"
   ]
  },
  {
   "attachments": {},
   "cell_type": "markdown",
   "metadata": {},
   "source": [
    "Analizamos la data "
   ]
  },
  {
   "cell_type": "code",
   "execution_count": 7,
   "metadata": {},
   "outputs": [
    {
     "data": {
      "text/plain": [
       "(45466, 20)"
      ]
     },
     "execution_count": 7,
     "metadata": {},
     "output_type": "execute_result"
    }
   ],
   "source": [
    "data.shape"
   ]
  },
  {
   "cell_type": "code",
   "execution_count": 8,
   "metadata": {},
   "outputs": [
    {
     "name": "stdout",
     "output_type": "stream",
     "text": [
      "<class 'pandas.core.frame.DataFrame'>\n",
      "RangeIndex: 45466 entries, 0 to 45465\n",
      "Data columns (total 20 columns):\n",
      " #   Column                 Non-Null Count  Dtype  \n",
      "---  ------                 --------------  -----  \n",
      " 0   Unnamed: 0             45466 non-null  int64  \n",
      " 1   belongs_to_collection  4494 non-null   object \n",
      " 2   budget                 45463 non-null  float64\n",
      " 3   genres                 45466 non-null  object \n",
      " 4   id                     45466 non-null  object \n",
      " 5   original_language      45455 non-null  object \n",
      " 6   overview               44512 non-null  object \n",
      " 7   popularity             45461 non-null  object \n",
      " 8   production_companies   45463 non-null  object \n",
      " 9   production_countries   45463 non-null  object \n",
      " 10  release_date           45376 non-null  object \n",
      " 11  revenue                45460 non-null  float64\n",
      " 12  runtime                45203 non-null  float64\n",
      " 13  spoken_languages       45460 non-null  object \n",
      " 14  status                 45379 non-null  object \n",
      " 15  tagline                20412 non-null  object \n",
      " 16  title                  45460 non-null  object \n",
      " 17  vote_average           45460 non-null  float64\n",
      " 18  release_year           45376 non-null  float64\n",
      " 19  return                 45463 non-null  float64\n",
      "dtypes: float64(6), int64(1), object(13)\n",
      "memory usage: 6.9+ MB\n"
     ]
    }
   ],
   "source": [
    "data.info()"
   ]
  },
  {
   "cell_type": "code",
   "execution_count": 9,
   "metadata": {},
   "outputs": [
    {
     "data": {
      "text/html": [
       "<div>\n",
       "<style scoped>\n",
       "    .dataframe tbody tr th:only-of-type {\n",
       "        vertical-align: middle;\n",
       "    }\n",
       "\n",
       "    .dataframe tbody tr th {\n",
       "        vertical-align: top;\n",
       "    }\n",
       "\n",
       "    .dataframe thead th {\n",
       "        text-align: right;\n",
       "    }\n",
       "</style>\n",
       "<table border=\"1\" class=\"dataframe\">\n",
       "  <thead>\n",
       "    <tr style=\"text-align: right;\">\n",
       "      <th></th>\n",
       "      <th>Unnamed: 0</th>\n",
       "      <th>budget</th>\n",
       "      <th>revenue</th>\n",
       "      <th>runtime</th>\n",
       "      <th>vote_average</th>\n",
       "      <th>release_year</th>\n",
       "      <th>return</th>\n",
       "    </tr>\n",
       "  </thead>\n",
       "  <tbody>\n",
       "    <tr>\n",
       "      <th>count</th>\n",
       "      <td>45466.000000</td>\n",
       "      <td>4.546300e+04</td>\n",
       "      <td>4.546000e+04</td>\n",
       "      <td>45203.000000</td>\n",
       "      <td>45460.000000</td>\n",
       "      <td>45376.000000</td>\n",
       "      <td>4.546300e+04</td>\n",
       "    </tr>\n",
       "    <tr>\n",
       "      <th>mean</th>\n",
       "      <td>22732.500000</td>\n",
       "      <td>4.224579e+06</td>\n",
       "      <td>1.120935e+07</td>\n",
       "      <td>94.128199</td>\n",
       "      <td>5.618207</td>\n",
       "      <td>1991.881193</td>\n",
       "      <td>6.587797e+02</td>\n",
       "    </tr>\n",
       "    <tr>\n",
       "      <th>std</th>\n",
       "      <td>13125.048006</td>\n",
       "      <td>1.742413e+07</td>\n",
       "      <td>6.433225e+07</td>\n",
       "      <td>38.407810</td>\n",
       "      <td>1.924216</td>\n",
       "      <td>24.055360</td>\n",
       "      <td>7.462180e+04</td>\n",
       "    </tr>\n",
       "    <tr>\n",
       "      <th>min</th>\n",
       "      <td>0.000000</td>\n",
       "      <td>0.000000e+00</td>\n",
       "      <td>0.000000e+00</td>\n",
       "      <td>0.000000</td>\n",
       "      <td>0.000000</td>\n",
       "      <td>1874.000000</td>\n",
       "      <td>0.000000e+00</td>\n",
       "    </tr>\n",
       "    <tr>\n",
       "      <th>25%</th>\n",
       "      <td>11366.250000</td>\n",
       "      <td>0.000000e+00</td>\n",
       "      <td>0.000000e+00</td>\n",
       "      <td>85.000000</td>\n",
       "      <td>5.000000</td>\n",
       "      <td>1978.000000</td>\n",
       "      <td>0.000000e+00</td>\n",
       "    </tr>\n",
       "    <tr>\n",
       "      <th>50%</th>\n",
       "      <td>22732.500000</td>\n",
       "      <td>0.000000e+00</td>\n",
       "      <td>0.000000e+00</td>\n",
       "      <td>95.000000</td>\n",
       "      <td>6.000000</td>\n",
       "      <td>2001.000000</td>\n",
       "      <td>0.000000e+00</td>\n",
       "    </tr>\n",
       "    <tr>\n",
       "      <th>75%</th>\n",
       "      <td>34098.750000</td>\n",
       "      <td>0.000000e+00</td>\n",
       "      <td>0.000000e+00</td>\n",
       "      <td>107.000000</td>\n",
       "      <td>6.800000</td>\n",
       "      <td>2010.000000</td>\n",
       "      <td>0.000000e+00</td>\n",
       "    </tr>\n",
       "    <tr>\n",
       "      <th>max</th>\n",
       "      <td>45465.000000</td>\n",
       "      <td>3.800000e+08</td>\n",
       "      <td>2.787965e+09</td>\n",
       "      <td>1256.000000</td>\n",
       "      <td>10.000000</td>\n",
       "      <td>2020.000000</td>\n",
       "      <td>1.239638e+07</td>\n",
       "    </tr>\n",
       "  </tbody>\n",
       "</table>\n",
       "</div>"
      ],
      "text/plain": [
       "         Unnamed: 0        budget       revenue       runtime  vote_average  \\\n",
       "count  45466.000000  4.546300e+04  4.546000e+04  45203.000000  45460.000000   \n",
       "mean   22732.500000  4.224579e+06  1.120935e+07     94.128199      5.618207   \n",
       "std    13125.048006  1.742413e+07  6.433225e+07     38.407810      1.924216   \n",
       "min        0.000000  0.000000e+00  0.000000e+00      0.000000      0.000000   \n",
       "25%    11366.250000  0.000000e+00  0.000000e+00     85.000000      5.000000   \n",
       "50%    22732.500000  0.000000e+00  0.000000e+00     95.000000      6.000000   \n",
       "75%    34098.750000  0.000000e+00  0.000000e+00    107.000000      6.800000   \n",
       "max    45465.000000  3.800000e+08  2.787965e+09   1256.000000     10.000000   \n",
       "\n",
       "       release_year        return  \n",
       "count  45376.000000  4.546300e+04  \n",
       "mean    1991.881193  6.587797e+02  \n",
       "std       24.055360  7.462180e+04  \n",
       "min     1874.000000  0.000000e+00  \n",
       "25%     1978.000000  0.000000e+00  \n",
       "50%     2001.000000  0.000000e+00  \n",
       "75%     2010.000000  0.000000e+00  \n",
       "max     2020.000000  1.239638e+07  "
      ]
     },
     "execution_count": 9,
     "metadata": {},
     "output_type": "execute_result"
    }
   ],
   "source": [
    "#visualizar outlier \n",
    "data.describe()"
   ]
  },
  {
   "cell_type": "code",
   "execution_count": 12,
   "metadata": {},
   "outputs": [
    {
     "data": {
      "text/plain": [
       "Unnamed: 0                   0\n",
       "belongs_to_collection    40972\n",
       "budget                       3\n",
       "genres                       0\n",
       "id                           0\n",
       "original_language           11\n",
       "overview                   954\n",
       "popularity                   5\n",
       "production_companies         3\n",
       "production_countries         3\n",
       "release_date                90\n",
       "revenue                      6\n",
       "runtime                    263\n",
       "spoken_languages             6\n",
       "status                      87\n",
       "tagline                  25054\n",
       "title                        6\n",
       "vote_average                 6\n",
       "release_year                90\n",
       "return                       3\n",
       "dtype: int64"
      ]
     },
     "execution_count": 12,
     "metadata": {},
     "output_type": "execute_result"
    }
   ],
   "source": [
    "#graficamos para ver los valores faltantes\n",
    "mascara = data.isna().any(axis=0)\n",
    "\n",
    "data.isna().mean()[mascara].sort_values().plot()"
   ]
  }
 ],
 "metadata": {
  "kernelspec": {
   "display_name": "Python 3",
   "language": "python",
   "name": "python3"
  },
  "language_info": {
   "codemirror_mode": {
    "name": "ipython",
    "version": 3
   },
   "file_extension": ".py",
   "mimetype": "text/x-python",
   "name": "python",
   "nbconvert_exporter": "python",
   "pygments_lexer": "ipython3",
   "version": "3.10.8"
  },
  "orig_nbformat": 4
 },
 "nbformat": 4,
 "nbformat_minor": 2
}

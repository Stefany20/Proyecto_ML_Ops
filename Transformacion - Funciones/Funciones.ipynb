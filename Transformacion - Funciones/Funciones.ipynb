{
 "cells": [
  {
   "attachments": {},
   "cell_type": "markdown",
   "metadata": {},
   "source": [
    "Deben crear 6 funciones para los endpoints que se consumirán en la API, recuerden que deben tener un decorador por cada una (@app.get(‘/’))."
   ]
  },
  {
   "cell_type": "code",
   "execution_count": null,
   "metadata": {},
   "outputs": [],
   "source": [
    "import pandas as pd \n",
    "import numpy as np\n",
    "import ast\n",
    "from fastapi import FastAPI\n",
    "app = FastAPI()\n",
    "from collections import defaultdict\n",
    "import calendar\n",
    "import asyncio\n",
    "import json \n"
   ]
  },
  {
   "cell_type": "code",
   "execution_count": null,
   "metadata": {},
   "outputs": [],
   "source": [
    "#cargamos la data\n",
    "data = pd.read_csv(\"mi_movies_dataset.csv\")"
   ]
  },
  {
   "cell_type": "code",
   "execution_count": null,
   "metadata": {},
   "outputs": [],
   "source": [
    "data.head( )"
   ]
  },
  {
   "cell_type": "code",
   "execution_count": null,
   "metadata": {},
   "outputs": [],
   "source": [
    "#cambiamos el tipo de pada de pais \n",
    "data[\"production_companies\"] = data[\"production_companies\"].astype(str)\n",
    "data[\"production_companies\"].fillna(\"Sin datos\")"
   ]
  },
  {
   "cell_type": "code",
   "execution_count": null,
   "metadata": {},
   "outputs": [],
   "source": [
    "data[\"production_countries\"] = data[\"production_countries\"].astype(str)"
   ]
  },
  {
   "cell_type": "code",
   "execution_count": null,
   "metadata": {},
   "outputs": [],
   "source": [
    "#desanidamos los elemnetos de pais\n",
    "data[\"production_countries\"] = data[\"production_countries\"].apply(lambda x: ast.literal_eval(x) if isinstance(x, str) else x)\n",
    "data.fillna(\"\", inplace=True)"
   ]
  },
  {
   "cell_type": "code",
   "execution_count": 124,
   "metadata": {},
   "outputs": [],
   "source": [
    "data[\"budget\"].replace(\"\", inplace=True)\n",
    "data[\"revenue\"].replace(\"\", inplace=True)"
   ]
  },
  {
   "cell_type": "code",
   "execution_count": 125,
   "metadata": {},
   "outputs": [],
   "source": [
    "data['budget'] = data['budget'].astype(float)"
   ]
  },
  {
   "cell_type": "code",
   "execution_count": 126,
   "metadata": {},
   "outputs": [],
   "source": [
    "data['revenue'] = data['revenue'].astype(float)"
   ]
  },
  {
   "cell_type": "code",
   "execution_count": 119,
   "metadata": {},
   "outputs": [],
   "source": [
    "#convierto los valores de la columna las siguientes columnas en valores flotantes para poder realizar la duvision ya que estaban como objetos\n",
    "def calcular_retorno(row):\n",
    "    revenue = row['revenue']\n",
    "    budget = row['budget']\n",
    "    \n",
    "    if pd.notnull(revenue) and pd.notnull(budget) and budget != 0:\n",
    "        return revenue / budget\n",
    "    else:\n",
    "        return 0"
   ]
  },
  {
   "cell_type": "code",
   "execution_count": 127,
   "metadata": {},
   "outputs": [],
   "source": [
    "data['return'] = data.apply(calcular_retorno, axis=1)"
   ]
  },
  {
   "cell_type": "code",
   "execution_count": null,
   "metadata": {},
   "outputs": [],
   "source": [
    "def peliculas_mes(mes: str): \n",
    "    '''Se ingresa el mes y la funcion retorna la cantidad de peliculas que se estrenaron \n",
    "        ese mes \n",
    "    ''' \n",
    "    #Convertimos a la columna de tipo datetime\n",
    "    data[\"release_date\"] = pd.to_datetime(data[\"release_date\"])\n",
    "    \n",
    "    #Obtenemos mes y año de la columna\n",
    "    data['mes'] = data['release_date'].dt.month_name() \n",
    "    data['año'] = data['release_date'].dt.year\n",
    "\n",
    "    #Filtramos por el mes proporcionado\n",
    "    peliculas_mes = data[data['mes'].str.lower() == mes.lower()]\n",
    "    \n",
    "    #Cantidada de pelicula por mes \n",
    "    cantidad = len(peliculas_mes)\n",
    "    \n",
    "    return {'mes':mes, 'cantidad':cantidad}"
   ]
  },
  {
   "cell_type": "code",
   "execution_count": null,
   "metadata": {},
   "outputs": [],
   "source": [
    "x= peliculas_mes(\"October\")\n",
    "print(x)"
   ]
  },
  {
   "cell_type": "code",
   "execution_count": null,
   "metadata": {},
   "outputs": [],
   "source": [
    "def peliculas_dia(dia:str):\n",
    "    '''\n",
    "    Se ingresa el dia y la funcion retorna la cantidad de peliculas que se \n",
    "    estrenaron ese dia \n",
    "\n",
    "    ''' \n",
    "    # Convertir la columna a tipo datetime \n",
    "    data['release_date'] = pd.to_datetime(data['release_date']) \n",
    "\n",
    "    # Obtener el día de la semana de la columna\n",
    "    data['dia_semana'] = data['release_date'].dt.day_name()\n",
    "\n",
    "    # Filtrar  por el día de la semana proporcionado\n",
    "    peliculas_dia = data[data['dia_semana'].str.lower() == dia.lower()]\n",
    " \n",
    "    cantidad = len(peliculas_dia) \n",
    "    return  {'dia': dia, 'cantidad': cantidad}"
   ]
  },
  {
   "cell_type": "code",
   "execution_count": null,
   "metadata": {},
   "outputs": [],
   "source": [
    "x = peliculas_dia(\"Monday\")\n",
    "print (x)"
   ]
  },
  {
   "cell_type": "code",
   "execution_count": null,
   "metadata": {},
   "outputs": [],
   "source": [
    "def franquicia(franquicia): \n",
    "    '''Se ingresa la franquicia, retornando la cantidad de peliculas, ganancia total y \n",
    "    promedio\n",
    "    ''' \n",
    "    # Filtrar el DataFrame por la franquicia proporcionada\n",
    "    franquicia_data = data[data['belongs_to_collection'].notnull() & data['belongs_to_collection'].apply(lambda x: isinstance(x, str) and franquicia.lower() in x.lower())]\n",
    "\n",
    "    # Obtener la cantidad de películas en la franquicia\n",
    "    cantidad = len(franquicia_data)\n",
    "\n",
    "    # Calcular la ganancia total y el promedio de la franquicia\n",
    "    ganancia_total = franquicia_data['revenue'].sum()\n",
    "    ganancia_promedio = franquicia_data['revenue'].mean()\n",
    "\n",
    "    \n",
    "    return {'franquicia':franquicia, 'cantidad': cantidad, 'ganancia_total':ganancia_total, 'ganancia_promedio':ganancia_promedio}"
   ]
  },
  {
   "cell_type": "code",
   "execution_count": null,
   "metadata": {},
   "outputs": [],
   "source": [
    "respuesta = franquicia('Father of the Bride Collection')\n",
    "print(respuesta)"
   ]
  },
  {
   "cell_type": "code",
   "execution_count": null,
   "metadata": {},
   "outputs": [],
   "source": [
    "def peliculas_pais(pais: str):\n",
    "    \n",
    "    # Filtrar la data por el país proporcionado\n",
    "    pelicula_pais = data[data[\"production_countries\"].str.contains(pais, case=False, na=False)]\n",
    "\n",
    "\n",
    "    # cantidad de películas producidas en el país\n",
    "    cantidad = len(pelicula_pais)\n",
    "\n",
    "    return {'pais': pais, 'cantidad': cantidad}"
   ]
  },
  {
   "cell_type": "code",
   "execution_count": null,
   "metadata": {},
   "outputs": [],
   "source": [
    "x = peliculas_pais(\"United States of America\")\n",
    "print(x)"
   ]
  },
  {
   "cell_type": "code",
   "execution_count": null,
   "metadata": {},
   "outputs": [],
   "source": [
    "def productoras(productora: str):\n",
    "    '''\n",
    "    Ingresas la productora, retornando la ganancia total y \n",
    "    la cantidad de peliculas que produjeron\n",
    "    '''\n",
    "    # Filtrar el DataFrame por la productora proporcionada\n",
    "    productora_filtro = data[data['production_companies'].notnull() & data['production_companies'].apply(lambda x: any(p['name'].lower() == productora.lower() for p in ast.literal_eval(x)))]\n",
    "\n",
    "    # Obtener la ganancia total y la cantidad de películas producidas por la productora\n",
    "    ganancia_total = productora_filtro['revenue'].sum()-productora_filtro['budget'].sum()\n",
    "    cantidad = len(productora_filtro)\n",
    "\n",
    "    return {'productora': productora, 'ganancia_total': ganancia_total, 'cantidad': cantidad}"
   ]
  },
  {
   "cell_type": "code",
   "execution_count": 128,
   "metadata": {},
   "outputs": [],
   "source": [
    "def productoras1(productora:str):\n",
    "    \n",
    "    produ = data[[\"production_companies\", \"budget\", \"revenue\"]].dropna()\n",
    "    produ[\"production_companies\"] = produ[\"production_companies\"].map(str.lower)\n",
    "\n",
    "    cantidad = produ.shape[0]\n",
    "    ganacia_total = (produ[\"revenue\"]- produ[\"budget\"]).sum()\n",
    "\n",
    "    return {\"productora\": productora, \"ganancia total\": ganacia_total, \"cantidad\": cantidad}"
   ]
  },
  {
   "cell_type": "code",
   "execution_count": 129,
   "metadata": {},
   "outputs": [
    {
     "name": "stdout",
     "output_type": "stream",
     "text": [
      "{'productora': 'Interscope Communications', 'ganancia total': 317515442702.0, 'cantidad': 45453}\n"
     ]
    }
   ],
   "source": [
    "x = productoras1(\"Interscope Communications\")\n",
    "print(x)"
   ]
  },
  {
   "cell_type": "code",
   "execution_count": 130,
   "metadata": {},
   "outputs": [],
   "source": [
    "def retorno(pelicula: str): \n",
    "    '''Ingresas la pelicula, retornando la inversion, la ganancia, \n",
    "    el retorno y el año en el que se lanzo\n",
    "    ''' \n",
    "    #filtramos las filas correspondientes \n",
    "    fila_pelicula = data[data[\"title\"] == pelicula].iloc[0]\n",
    "    \n",
    "    #sacamos los valores \n",
    "    inversion = float(fila_pelicula[\"budget\"])\n",
    "    ganancia = float(fila_pelicula[\"revenue\"]) - inversion\n",
    "    retorno = float(fila_pelicula[\"return\"])\n",
    "    anio = int(fila_pelicula[\"release_year\"])\n",
    "\n",
    "    return {'pelicula':pelicula, 'inversion':inversion, 'ganacia':ganancia,'retorno': retorno, 'anio': anio}"
   ]
  },
  {
   "cell_type": "code",
   "execution_count": 131,
   "metadata": {},
   "outputs": [
    {
     "name": "stdout",
     "output_type": "stream",
     "text": [
      "{'pelicula': 'Jumanji', 'inversion': 65000000.0, 'ganacia': 197797249.0, 'retorno': 4.0430346, 'anio': 1995}\n"
     ]
    }
   ],
   "source": [
    "x = retorno(\"Jumanji\")\n",
    "print(x)"
   ]
  }
 ],
 "metadata": {
  "kernelspec": {
   "display_name": "Python 3",
   "language": "python",
   "name": "python3"
  },
  "language_info": {
   "codemirror_mode": {
    "name": "ipython",
    "version": 3
   },
   "file_extension": ".py",
   "mimetype": "text/x-python",
   "name": "python",
   "nbconvert_exporter": "python",
   "pygments_lexer": "ipython3",
   "version": "3.10.8"
  },
  "orig_nbformat": 4
 },
 "nbformat": 4,
 "nbformat_minor": 2
}

{
 "cells": [
  {
   "attachments": {},
   "cell_type": "markdown",
   "metadata": {},
   "source": [
    "Deben crear 6 funciones para los endpoints que se consumirán en la API, recuerden que deben tener un decorador por cada una (@app.get(‘/’))."
   ]
  },
  {
   "cell_type": "code",
   "execution_count": null,
   "metadata": {},
   "outputs": [],
   "source": [
    "#importamos las librerias \n",
    "import pandas as pd \n",
    "import numpy as np\n",
    "import ast\n",
    "from collections import defaultdict\n",
    "import calendar\n",
    "import asyncio\n",
    "import json \n"
   ]
  },
  {
   "cell_type": "code",
   "execution_count": null,
   "metadata": {},
   "outputs": [],
   "source": [
    "#cargamos la data\n",
    "data = pd.read_csv(\"definido_movies_dataset.csv\")"
   ]
  },
  {
   "cell_type": "code",
   "execution_count": null,
   "metadata": {},
   "outputs": [],
   "source": [
    "data.head()"
   ]
  },
  {
   "cell_type": "code",
   "execution_count": null,
   "metadata": {},
   "outputs": [],
   "source": [
    "#cambiamos el tipo de pada de pais \n",
    "data[\"production_companies\"] = data[\"production_companies\"].astype(str)\n",
    "data[\"production_companies\"].fillna(\"Sin datos\")"
   ]
  },
  {
   "cell_type": "code",
   "execution_count": null,
   "metadata": {},
   "outputs": [],
   "source": [
    "data[\"production_countries\"].fillna(value=\"Sin Datos\", inplace=True)"
   ]
  },
  {
   "cell_type": "code",
   "execution_count": null,
   "metadata": {},
   "outputs": [],
   "source": [
    "data[\"production_countries\"] = data[\"production_countries\"].astype(str)"
   ]
  },
  {
   "cell_type": "code",
   "execution_count": null,
   "metadata": {},
   "outputs": [],
   "source": [
    "data[\"budget\"].replace(\"\", inplace=True)\n",
    "data[\"revenue\"].replace(\"\", inplace=True)"
   ]
  },
  {
   "cell_type": "code",
   "execution_count": null,
   "metadata": {},
   "outputs": [],
   "source": [
    "data['budget'] = data['budget'].astype(float)"
   ]
  },
  {
   "cell_type": "code",
   "execution_count": null,
   "metadata": {},
   "outputs": [],
   "source": [
    "data['revenue'] = data['revenue'].astype(float)"
   ]
  },
  {
   "cell_type": "code",
   "execution_count": null,
   "metadata": {},
   "outputs": [],
   "source": [
    "#convierto los valores de la columna las siguientes columnas en valores flotantes para poder realizar la duvision ya que estaban como objetos\n",
    "def calcular_retor(row):\n",
    "    revenue = row['revenue']\n",
    "    budget = row['budget']\n",
    "    \n",
    "    if pd.notnull(revenue) and pd.notnull(budget) and budget != 0:\n",
    "        return revenue / budget\n",
    "    else:\n",
    "        return 0"
   ]
  },
  {
   "cell_type": "code",
   "execution_count": null,
   "metadata": {},
   "outputs": [],
   "source": [
    "data['return'] = data.apply(calcular_retor, axis=1)"
   ]
  },
  {
   "cell_type": "code",
   "execution_count": null,
   "metadata": {},
   "outputs": [],
   "source": [
    "def peliculas_mes(mes: str): \n",
    "    '''Se ingresa el mes y la funcion retorna la cantidad de peliculas que se estrenaron \n",
    "        ese mes \n",
    "    ''' \n",
    "#nos imprimira el ideoma que le indiquemos  \n",
    "    espanol_ingles = {\n",
    "     'enero': 'January',\n",
    "     'febrero': 'February',\n",
    "     'marzo': 'March',\n",
    "     'abril': 'April',\n",
    "     'mayo': 'May',\n",
    "     'junio': 'June',\n",
    "     'julio': 'July',\n",
    "     'agosto': 'August',\n",
    "     'septiembre': 'September',\n",
    "     'octubre': 'October',\n",
    "     'noviembre': 'November',\n",
    "     'diciembre': 'December'}\n",
    "   \n",
    "    if mes.lower() in espanol_ingles:\n",
    "        mes_medi = espanol_ingles[mes.lower()]\n",
    "    elif mes.lower not in espanol_ingles:\n",
    "        mes_medi = mes\n",
    "        \n",
    "    #Convertimos a la columna de tipo datetime\n",
    "    data[\"release_date\"] = pd.to_datetime(data[\"release_date\"])\n",
    "    \n",
    "    #Obtenemos mes y año de la columna\n",
    "    data['mes'] = data['release_date'].dt.month_name() \n",
    "    data['año'] = data['release_date'].dt.year\n",
    "\n",
    "    #Filtramos por el mes proporcionado\n",
    "    peliculas_mes = data[data['mes'].str.lower() == mes_medi.lower()]\n",
    "    \n",
    "    #Cantidada de pelicula por mes \n",
    "    cantidad = len(peliculas_mes)\n",
    "    \n",
    "    return {'mes':mes, 'cantidad':cantidad}"
   ]
  },
  {
   "cell_type": "code",
   "execution_count": null,
   "metadata": {},
   "outputs": [],
   "source": [
    "x = peliculas_mes(\"enero\")\n",
    "print(x)"
   ]
  },
  {
   "cell_type": "code",
   "execution_count": 76,
   "metadata": {},
   "outputs": [],
   "source": [
    "def peliculas_dia(dia:str):\n",
    "    '''\n",
    "    Se ingresa el dia y la funcion retorna la cantidad de peliculas que se \n",
    "    estrenaron ese dia \n",
    "\n",
    "    ''' \n",
    "    # Convertir la columna a tipo datetime \n",
    "    data['release_date'] = pd.to_datetime(data['release_date']) \n",
    "\n",
    "    # Obtener el día de la semana de la columna\n",
    "    data['dia_semana'] = data['release_date'].dt.day_name()\n",
    "\n",
    "    # Filtrar  por el día de la semana proporcionado\n",
    "    peliculas_dia = data[data['dia_semana'].str.lower() == dia.lower()]\n",
    " \n",
    "    cantidad = len(peliculas_dia) \n",
    "    return  {'dia': dia, 'cantidad': cantidad}"
   ]
  },
  {
   "cell_type": "code",
   "execution_count": 77,
   "metadata": {},
   "outputs": [
    {
     "name": "stdout",
     "output_type": "stream",
     "text": [
      "{'dia': 'Monday', 'cantidad': 3503}\n"
     ]
    }
   ],
   "source": [
    "x = peliculas_dia(\"Monday\")\n",
    "print (x)"
   ]
  },
  {
   "cell_type": "code",
   "execution_count": null,
   "metadata": {},
   "outputs": [],
   "source": [
    "def franquicia(franquicia: str):\n",
    "    '''\n",
    "    Se ingresa la franquicia, retornando la \n",
    "    cantidad de peliculas, ganancia total y promedio\n",
    "    '''\n",
    "    # Filtro el DataFrame por la franquicia proporcionada\n",
    "    franquicia_fil = data[data['belongs_to_collection'].notnull() & data['belongs_to_collection'].apply(lambda x: isinstance(x, str) and franquicia.lower() in x.lower())]\n",
    "\n",
    "    cantidad = len(franquicia_fil)\n",
    "\n",
    "    ganancia_en_total = franquicia_fil['revenue'].sum()-franquicia_fil['budget'].sum()\n",
    "    ganancia_en_promedio = ganancia_en_total/cantidad\n",
    "\n",
    "    return {'franquicia': franquicia, 'cantidad': cantidad, 'ganancia_total': ganancia_en_total , 'ganancia_promedio': ganancia_en_promedio}"
   ]
  },
  {
   "cell_type": "code",
   "execution_count": null,
   "metadata": {},
   "outputs": [],
   "source": [
    "respuesta = franquicia('Father of the Bride Collection')\n",
    "print(respuesta)"
   ]
  },
  {
   "cell_type": "code",
   "execution_count": null,
   "metadata": {},
   "outputs": [],
   "source": [
    "def peliculas_pais(pais: str):\n",
    "    '''\n",
    "    Ingresas el pais, retornando la cantidad de peliculas producidas en el mismo\n",
    "    '''\n",
    "    # Filtrar la data por el país proporcionado\n",
    "    pelicula_pais = data[data[\"production_countries\"].str.contains(pais, case=False, na=False)]\n",
    "\n",
    "\n",
    "    # cantidad de películas producidas en el país\n",
    "    cantidad = len(pelicula_pais)\n",
    "\n",
    "    return {'pais': pais, 'cantidad': cantidad}"
   ]
  },
  {
   "cell_type": "code",
   "execution_count": null,
   "metadata": {},
   "outputs": [],
   "source": [
    "x = peliculas_pais(\"United States of America\")\n",
    "print(x)"
   ]
  },
  {
   "cell_type": "code",
   "execution_count": null,
   "metadata": {},
   "outputs": [],
   "source": [
    "def productoras(productora: str):\n",
    "    '''\n",
    "    Ingresas la productora, retornando la ganancia total y \n",
    "    la cantidad de peliculas que produjeron\n",
    "    '''\n",
    "    # Filtro por la productora proporcionada\n",
    "    productora_fil = data[data['production_companies'].notnull() & data['production_companies'].str.contains(productora, case=False)]\n",
    "\n",
    "    # Obtener la ganancia total y la cantidad de películas producidas por la productora\n",
    "    ganancia_en_total = productora_fil['revenue'].sum()-productora_fil['budget'].sum()\n",
    "    cantidad = len(productora_fil)\n",
    "\n",
    "    return {'productora': productora, 'ganancia_total': ganancia_en_total, 'cantidad': cantidad}"
   ]
  },
  {
   "cell_type": "code",
   "execution_count": null,
   "metadata": {},
   "outputs": [],
   "source": [
    "x = productoras(\"Interscope Communications\")\n",
    "print(x)"
   ]
  },
  {
   "cell_type": "code",
   "execution_count": null,
   "metadata": {},
   "outputs": [],
   "source": [
    "def retorno(pelicula: str): \n",
    "    '''Ingresas la pelicula, retornando la inversion, la ganancia, \n",
    "    el retorno y el año en el que se lanzo\n",
    "    ''' \n",
    "    #filtramos las filas correspondientes \n",
    "    fila_pelicula = data[data[\"title\"] == pelicula].iloc[0]\n",
    "    \n",
    "    #sacamos los valores \n",
    "    inversion = float(fila_pelicula[\"budget\"])\n",
    "    ganancia = float(fila_pelicula[\"revenue\"]) - inversion\n",
    "    retorno = float(fila_pelicula[\"return\"])\n",
    "    anio = int(fila_pelicula[\"release_year\"])\n",
    "\n",
    "    return {'pelicula':pelicula, 'inversion':inversion, 'ganacia':ganancia,'retorno': retorno, 'anio': anio}"
   ]
  },
  {
   "cell_type": "code",
   "execution_count": null,
   "metadata": {},
   "outputs": [],
   "source": [
    "x = retorno(\"Jumanji\")\n",
    "print(x)"
   ]
  }
 ],
 "metadata": {
  "kernelspec": {
   "display_name": "Python 3",
   "language": "python",
   "name": "python3"
  },
  "language_info": {
   "codemirror_mode": {
    "name": "ipython",
    "version": 3
   },
   "file_extension": ".py",
   "mimetype": "text/x-python",
   "name": "python",
   "nbconvert_exporter": "python",
   "pygments_lexer": "ipython3",
   "version": "3.10.8"
  },
  "orig_nbformat": 4
 },
 "nbformat": 4,
 "nbformat_minor": 2
}
